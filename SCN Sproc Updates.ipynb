{
 "cells": [
  {
   "cell_type": "markdown",
   "id": "518641d3",
   "metadata": {},
   "source": [
    "### import pandas"
   ]
  },
  {
   "cell_type": "code",
   "execution_count": 47,
   "id": "9baf4994",
   "metadata": {},
   "outputs": [],
   "source": [
    "import pandas as pd"
   ]
  },
  {
   "cell_type": "markdown",
   "id": "4de495ec",
   "metadata": {},
   "source": [
    "### Load SQL file"
   ]
  },
  {
   "cell_type": "code",
   "execution_count": 48,
   "id": "9a13bebe",
   "metadata": {},
   "outputs": [],
   "source": [
    "filepath = 'ScnSQLFiles_Need_Update.txt'\n",
    "\n",
    "with open(filepath,'r') as b:\n",
    "    text = b.read()        "
   ]
  },
  {
   "cell_type": "markdown",
   "id": "f164a260",
   "metadata": {},
   "source": [
    "### import sql table conversions csv"
   ]
  },
  {
   "cell_type": "code",
   "execution_count": 49,
   "id": "42532da2",
   "metadata": {},
   "outputs": [
    {
     "name": "stdout",
     "output_type": "stream",
     "text": [
      "                             Start                        Replace\n",
      "0  ScnObgyn_stg.[001_Denominator]   stg.ScnObgyn_001_Denominator \n",
      "1     ScnObgyn_stg.[001_Numer1Lab]     stg.ScnObgyn_001_Numer1Lab\n",
      "2     ScnObgyn_stg.[001_Numer2CPT]     stg.ScnObgyn_001_Numer2CPT\n",
      "3  ScnObgyn_stg.[001_Numer3IcdPcs]  stg.ScnObgyn_001_Numer3IcdPcs\n",
      "4   ScnObgyn_stg.[001_Numer4aEncs]   stg.ScnObgyn_001_Numer4aEncs\n"
     ]
    }
   ],
   "source": [
    "conversions = pd.read_csv(\"SCN_table_replacements.csv\")\n",
    "\n",
    "print(conversions.head())"
   ]
  },
  {
   "cell_type": "markdown",
   "id": "3da96b67",
   "metadata": {},
   "source": [
    "### loop through table and make any nessesary adjustments"
   ]
  },
  {
   "cell_type": "code",
   "execution_count": 50,
   "id": "e0f22af6",
   "metadata": {},
   "outputs": [],
   "source": [
    "for ind in conversions.index:\n",
    "    firstval = str(conversions[\"Start\"][ind]).strip()\n",
    "    secondval = str(conversions[\"Replace\"][ind]).strip()\n",
    "    text = text.replace(firstval,secondval)"
   ]
  },
  {
   "cell_type": "markdown",
   "id": "3be2330e",
   "metadata": {},
   "source": [
    "### output updated file"
   ]
  },
  {
   "cell_type": "code",
   "execution_count": 51,
   "id": "8a089031",
   "metadata": {},
   "outputs": [],
   "source": [
    "with open(\"ScnSQLFiles_Updated.txt\",'w') as f:\n",
    "    f.write(text)"
   ]
  },
  {
   "cell_type": "code",
   "execution_count": null,
   "id": "0e9e3956",
   "metadata": {},
   "outputs": [],
   "source": []
  }
 ],
 "metadata": {
  "kernelspec": {
   "display_name": "Python 3 (ipykernel)",
   "language": "python",
   "name": "python3"
  },
  "language_info": {
   "codemirror_mode": {
    "name": "ipython",
    "version": 3
   },
   "file_extension": ".py",
   "mimetype": "text/x-python",
   "name": "python",
   "nbconvert_exporter": "python",
   "pygments_lexer": "ipython3",
   "version": "3.9.13"
  }
 },
 "nbformat": 4,
 "nbformat_minor": 5
}
