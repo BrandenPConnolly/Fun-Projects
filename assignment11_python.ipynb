{
 "cells": [
  {
   "cell_type": "markdown",
   "metadata": {},
   "source": [
    "Branden Connolly <br/>\n",
    "Assignment 11 <br/>\n",
    "11/21/2016 <br/>"
   ]
  },
  {
   "cell_type": "markdown",
   "metadata": {},
   "source": [
    "#Problem 1(a).  Reading Amazon Reviews.\n",
    "\n",
    "In this problem, we will analyze Amazon reviews to determine what characteristics make them most helpful.\n",
    "\n",
    "Download the file of Amazon gourmet food reviews from the [Stanford Large Network Dataset Collection](https://snap.stanford.edu/data/web-FineFoods.html).   (Your computer may already have a utility installed that can unzip the archive as a text file; if not, [7-zip](http://www.7-zip.org/) is a useful utility for Windows. You can also do a web search for ```open .gz files online``` and use an online utility.)\n",
    "\n",
    "Create a pandas DataFrame object with the following entries for each review:\n",
    "\n",
    "* Product ID\n",
    "* Number of people who voted this review helpful\n",
    "* Total number of people who rated this review\n",
    "* Rating of the product\n",
    "* Text of the review\n",
    "\n",
    "For the second and third of these, the information will be given in the file as ```1/5```, which would correspond to 1 vote for helpful out of 5 people who rated the review.\n"
   ]
  },
  {
   "cell_type": "code",
   "execution_count": 5,
   "metadata": {
    "collapsed": false
   },
   "outputs": [
    {
     "name": "stdout",
     "output_type": "stream",
     "text": [
      "   Product ID Rating                                             Review  \\\n",
      "0  B001E4KFG0    5.0   I have bought several of the Vitality canned ...   \n",
      "1  B00813GRG4    1.0   Product arrived labeled as Jumbo Salted Peanu...   \n",
      "2  B000LQOCH0    4.0   This is a confection that has been around a f...   \n",
      "3  B000UA0QIQ    2.0   If you are looking for the secret ingredient ...   \n",
      "4  B006K2ZZ7K    5.0   Great taffy at a great price.  There was a wi...   \n",
      "\n",
      "  Review Helpfulness Total Ratings  \n",
      "0                  1             1  \n",
      "1                  0             0  \n",
      "2                  1             1  \n",
      "3                  3             3  \n",
      "4                  0             0  \n"
     ]
    }
   ],
   "source": [
    "import pandas as pd\n",
    "import numpy as np\n",
    "\n",
    "\n",
    "with open(\"/Users/brandenconnolly/Documents/DS710/ds710fall2016assignment11/finefoods.txt\",encoding = \"ISO-8859-1\") as food_rev:\n",
    "\n",
    "    dict_list = []\n",
    "    column_names = ('Product ID', 'Review Helpfulness', 'Total Ratings', 'Rating', 'Review')\n",
    "    \n",
    "\n",
    "    while True:\n",
    "        line = food_rev.readline()\n",
    "        \n",
    "        if not line:\n",
    "            break\n",
    "        \n",
    "        line=line.strip()\n",
    "        line_split = line.split(\":\")\n",
    "        \n",
    "        if(line_split[0] == \"product/productId\"):\n",
    "            prod = line_split[1].strip()\n",
    "        elif(line_split[0] == \"review/userId\"):\n",
    "            pass\n",
    "        elif(line_split[0] == \"review/profileName\"):\n",
    "            pass\n",
    "        elif(line_split[0] == \"review/helpfulness\"):\n",
    "            rating_split = line_split[1].split(\"/\")\n",
    "            review_help = rating_split[0]\n",
    "            tot_rating = rating_split[1]\n",
    "        elif(line_split[0] == \"review/score\"):\n",
    "            rating = line_split[1]\n",
    "        elif(line_split[0] == \"review/time\"):\n",
    "            pass\n",
    "        elif(line_split[0] == \"review/summary\"):\n",
    "            pass\n",
    "        elif(line_split[0] == \"review/text\"):\n",
    "            review = line_split[1]\n",
    "        elif(line_split[0] == \"\"):\n",
    "            dict_list.append(dict(zip(column_names, [prod,review_help,tot_rating,rating,review])))\n",
    "        else:\n",
    "            pass\n",
    "\n",
    "        \n",
    "finefood_df = pd.DataFrame(dict_list)\n",
    "\n",
    "print(finefood_df.head(5))"
   ]
  },
  {
   "cell_type": "markdown",
   "metadata": {},
   "source": [
    "#Problem 1(b).  Analyzing review text.\n",
    "\n",
    "Add columns to your DataFrame for the length of a review, the number of exclamation points in a review, and the fraction of people who rated a review helpful. You should calculate the fraction who rated a review helpful using the two columns you made in 1a, and a ratio of 1 helpful rating out of 5 total ratings should be entered as 0.2, not the string ```1/5```. If no people voted on whether a problem was helpful, the corresponding entry in your percentage helpful column should be ```NaN```."
   ]
  },
  {
   "cell_type": "code",
   "execution_count": 14,
   "metadata": {
    "collapsed": false
   },
   "outputs": [
    {
     "data": {
      "text/html": [
       "<div>\n",
       "<table border=\"1\" class=\"dataframe\">\n",
       "  <thead>\n",
       "    <tr style=\"text-align: right;\">\n",
       "      <th></th>\n",
       "      <th>Product ID</th>\n",
       "      <th>Rating</th>\n",
       "      <th>Review</th>\n",
       "      <th>Review Helpfulness</th>\n",
       "      <th>Total Ratings</th>\n",
       "      <th>Len_of_Review</th>\n",
       "      <th>Exclaimation_Points</th>\n",
       "      <th>Helpfulness_NUM</th>\n",
       "      <th>Total_NUM</th>\n",
       "      <th>Helpful_Review</th>\n",
       "    </tr>\n",
       "  </thead>\n",
       "  <tbody>\n",
       "    <tr>\n",
       "      <th>0</th>\n",
       "      <td>B001E4KFG0</td>\n",
       "      <td>5.0</td>\n",
       "      <td>I have bought several of the Vitality canned ...</td>\n",
       "      <td>1</td>\n",
       "      <td>1</td>\n",
       "      <td>264</td>\n",
       "      <td>0</td>\n",
       "      <td>1</td>\n",
       "      <td>1</td>\n",
       "      <td>1.0</td>\n",
       "    </tr>\n",
       "    <tr>\n",
       "      <th>1</th>\n",
       "      <td>B00813GRG4</td>\n",
       "      <td>1.0</td>\n",
       "      <td>Product arrived labeled as Jumbo Salted Peanu...</td>\n",
       "      <td>0</td>\n",
       "      <td>0</td>\n",
       "      <td>191</td>\n",
       "      <td>0</td>\n",
       "      <td>0</td>\n",
       "      <td>0</td>\n",
       "      <td>NaN</td>\n",
       "    </tr>\n",
       "    <tr>\n",
       "      <th>2</th>\n",
       "      <td>B000LQOCH0</td>\n",
       "      <td>4.0</td>\n",
       "      <td>This is a confection that has been around a f...</td>\n",
       "      <td>1</td>\n",
       "      <td>1</td>\n",
       "      <td>510</td>\n",
       "      <td>0</td>\n",
       "      <td>1</td>\n",
       "      <td>1</td>\n",
       "      <td>1.0</td>\n",
       "    </tr>\n",
       "    <tr>\n",
       "      <th>3</th>\n",
       "      <td>B000UA0QIQ</td>\n",
       "      <td>2.0</td>\n",
       "      <td>If you are looking for the secret ingredient ...</td>\n",
       "      <td>3</td>\n",
       "      <td>3</td>\n",
       "      <td>220</td>\n",
       "      <td>0</td>\n",
       "      <td>3</td>\n",
       "      <td>3</td>\n",
       "      <td>1.0</td>\n",
       "    </tr>\n",
       "    <tr>\n",
       "      <th>4</th>\n",
       "      <td>B006K2ZZ7K</td>\n",
       "      <td>5.0</td>\n",
       "      <td>Great taffy at a great price.  There was a wi...</td>\n",
       "      <td>0</td>\n",
       "      <td>0</td>\n",
       "      <td>141</td>\n",
       "      <td>0</td>\n",
       "      <td>0</td>\n",
       "      <td>0</td>\n",
       "      <td>NaN</td>\n",
       "    </tr>\n",
       "  </tbody>\n",
       "</table>\n",
       "</div>"
      ],
      "text/plain": [
       "   Product ID Rating                                             Review  \\\n",
       "0  B001E4KFG0    5.0   I have bought several of the Vitality canned ...   \n",
       "1  B00813GRG4    1.0   Product arrived labeled as Jumbo Salted Peanu...   \n",
       "2  B000LQOCH0    4.0   This is a confection that has been around a f...   \n",
       "3  B000UA0QIQ    2.0   If you are looking for the secret ingredient ...   \n",
       "4  B006K2ZZ7K    5.0   Great taffy at a great price.  There was a wi...   \n",
       "\n",
       "  Review Helpfulness Total Ratings  Len_of_Review  Exclaimation_Points  \\\n",
       "0                  1             1            264                    0   \n",
       "1                  0             0            191                    0   \n",
       "2                  1             1            510                    0   \n",
       "3                  3             3            220                    0   \n",
       "4                  0             0            141                    0   \n",
       "\n",
       "   Helpfulness_NUM  Total_NUM  Helpful_Review  \n",
       "0                1          1             1.0  \n",
       "1                0          0             NaN  \n",
       "2                1          1             1.0  \n",
       "3                3          3             1.0  \n",
       "4                0          0             NaN  "
      ]
     },
     "execution_count": 14,
     "metadata": {},
     "output_type": "execute_result"
    }
   ],
   "source": [
    "#length of review\n",
    "finefood_df[\"Len_of_Review\"] = finefood_df.Review.str.len()\n",
    "#number of exclaimation points\n",
    "finefood_df[\"Exclaimation_Points\"] = finefood_df.Review.str.count('!')\n",
    "#helpful_review \n",
    "#finefood_df[\"Helpful_Review\"] = pd.to_numeric(finefood_df.Helpfulness).div(pd.to_numeric(finefood_df[\"Total Ratings\"]))\n",
    "#Need to seperate\n",
    "\n",
    "finefood_df[\"Helpfulness_NUM\"] = pd.to_numeric(finefood_df[\"Review Helpfulness\"])\n",
    "finefood_df[\"Total_NUM\"] = pd.to_numeric(finefood_df[\"Total Ratings\"])\n",
    "\n",
    "finefood_df[\"Helpful_Review\"] = finefood_df.Helpfulness_NUM.div(finefood_df.Total_NUM)\n",
    "\n",
    "finefood_df.head(5)"
   ]
  },
  {
   "cell_type": "markdown",
   "metadata": {},
   "source": [
    "#Problem 1(c).  Summary statistics.\n",
    "\n",
    "How many reviews are in the data set?  What is the average length of a review (in characters)?  What is the average rating?  What is the greatest number of exclamation marks used in a single review?  Use the pandas package to answer these questions, then summarize your results in a markdown cell."
   ]
  },
  {
   "cell_type": "code",
   "execution_count": 15,
   "metadata": {
    "collapsed": false,
    "scrolled": true
   },
   "outputs": [
    {
     "name": "stderr",
     "output_type": "stream",
     "text": [
      "/Users/brandenconnolly/anaconda/lib/python3.5/site-packages/numpy/lib/function_base.py:3834: RuntimeWarning: Invalid value encountered in percentile\n",
      "  RuntimeWarning)\n"
     ]
    },
    {
     "data": {
      "text/html": [
       "<div>\n",
       "<table border=\"1\" class=\"dataframe\">\n",
       "  <thead>\n",
       "    <tr style=\"text-align: right;\">\n",
       "      <th></th>\n",
       "      <th>Len_of_Review</th>\n",
       "      <th>Exclaimation_Points</th>\n",
       "      <th>Helpfulness_NUM</th>\n",
       "      <th>Total_NUM</th>\n",
       "      <th>Helpful_Review</th>\n",
       "    </tr>\n",
       "  </thead>\n",
       "  <tbody>\n",
       "    <tr>\n",
       "      <th>count</th>\n",
       "      <td>568454.000000</td>\n",
       "      <td>568454.000000</td>\n",
       "      <td>568454.000000</td>\n",
       "      <td>568454.00000</td>\n",
       "      <td>298402.000000</td>\n",
       "    </tr>\n",
       "    <tr>\n",
       "      <th>mean</th>\n",
       "      <td>389.031214</td>\n",
       "      <td>0.702817</td>\n",
       "      <td>1.743817</td>\n",
       "      <td>2.22881</td>\n",
       "      <td>0.776975</td>\n",
       "    </tr>\n",
       "    <tr>\n",
       "      <th>std</th>\n",
       "      <td>353.763842</td>\n",
       "      <td>1.478514</td>\n",
       "      <td>7.636513</td>\n",
       "      <td>8.28974</td>\n",
       "      <td>0.346321</td>\n",
       "    </tr>\n",
       "    <tr>\n",
       "      <th>min</th>\n",
       "      <td>1.000000</td>\n",
       "      <td>0.000000</td>\n",
       "      <td>0.000000</td>\n",
       "      <td>0.00000</td>\n",
       "      <td>0.000000</td>\n",
       "    </tr>\n",
       "    <tr>\n",
       "      <th>25%</th>\n",
       "      <td>171.000000</td>\n",
       "      <td>0.000000</td>\n",
       "      <td>0.000000</td>\n",
       "      <td>0.00000</td>\n",
       "      <td>NaN</td>\n",
       "    </tr>\n",
       "    <tr>\n",
       "      <th>50%</th>\n",
       "      <td>283.000000</td>\n",
       "      <td>0.000000</td>\n",
       "      <td>0.000000</td>\n",
       "      <td>1.00000</td>\n",
       "      <td>NaN</td>\n",
       "    </tr>\n",
       "    <tr>\n",
       "      <th>75%</th>\n",
       "      <td>484.000000</td>\n",
       "      <td>1.000000</td>\n",
       "      <td>2.000000</td>\n",
       "      <td>2.00000</td>\n",
       "      <td>NaN</td>\n",
       "    </tr>\n",
       "    <tr>\n",
       "      <th>max</th>\n",
       "      <td>11899.000000</td>\n",
       "      <td>84.000000</td>\n",
       "      <td>866.000000</td>\n",
       "      <td>923.00000</td>\n",
       "      <td>3.000000</td>\n",
       "    </tr>\n",
       "  </tbody>\n",
       "</table>\n",
       "</div>"
      ],
      "text/plain": [
       "       Len_of_Review  Exclaimation_Points  Helpfulness_NUM     Total_NUM  \\\n",
       "count  568454.000000        568454.000000    568454.000000  568454.00000   \n",
       "mean      389.031214             0.702817         1.743817       2.22881   \n",
       "std       353.763842             1.478514         7.636513       8.28974   \n",
       "min         1.000000             0.000000         0.000000       0.00000   \n",
       "25%       171.000000             0.000000         0.000000       0.00000   \n",
       "50%       283.000000             0.000000         0.000000       1.00000   \n",
       "75%       484.000000             1.000000         2.000000       2.00000   \n",
       "max     11899.000000            84.000000       866.000000     923.00000   \n",
       "\n",
       "       Helpful_Review  \n",
       "count   298402.000000  \n",
       "mean         0.776975  \n",
       "std          0.346321  \n",
       "min          0.000000  \n",
       "25%               NaN  \n",
       "50%               NaN  \n",
       "75%               NaN  \n",
       "max          3.000000  "
      ]
     },
     "execution_count": 15,
     "metadata": {},
     "output_type": "execute_result"
    }
   ],
   "source": [
    "finefood_df.describe()"
   ]
  },
  {
   "cell_type": "markdown",
   "metadata": {},
   "source": [
    "There are 568,454 reviews in the dataset <br /> \n",
    "The average length of a review is 389 words (rounded to zero decimals)<br /> \n",
    "The most number of exlaimation points is 84 in one review <br /> \n",
    "\n",
    "\n"
   ]
  },
  {
   "cell_type": "markdown",
   "metadata": {},
   "source": [
    "#Problem 1(d).  Export.\n",
    "\n",
    "Save your DataFrame as a .csv file suitable for future analysis in R.  Your .csv file should not include the review text column, as the presence of commas and quotation marks will make reading the file difficult.  You should also convert entries from ```NaN``` to the empty string before saving."
   ]
  },
  {
   "cell_type": "code",
   "execution_count": 18,
   "metadata": {
    "collapsed": false
   },
   "outputs": [],
   "source": [
    "finefood_df_op = finefood_df.drop('Review',1)\n",
    "finefood_df_op.fillna(\"\",inplace = True)\n",
    "finefood_df_op.to_csv(\"/Users/brandenconnolly/Documents/DS710/ds710fall2016assignment11/finefoods_OP.txt\",index = False)"
   ]
  },
  {
   "cell_type": "code",
   "execution_count": null,
   "metadata": {
    "collapsed": true
   },
   "outputs": [],
   "source": []
  }
 ],
 "metadata": {
  "kernelspec": {
   "display_name": "Python [Root]",
   "language": "python",
   "name": "Python [Root]"
  },
  "language_info": {
   "codemirror_mode": {
    "name": "ipython",
    "version": 3
   },
   "file_extension": ".py",
   "mimetype": "text/x-python",
   "name": "python",
   "nbconvert_exporter": "python",
   "pygments_lexer": "ipython3",
   "version": "3.5.2"
  }
 },
 "nbformat": 4,
 "nbformat_minor": 0
}
